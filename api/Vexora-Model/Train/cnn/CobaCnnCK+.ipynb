{
 "cells": [
  {
   "cell_type": "code",
   "execution_count": 2,
   "metadata": {},
   "outputs": [],
   "source": [
    "from pathlib import Path\n",
    "import matplotlib.pyplot as plt\n",
    "from collections import Counter\n",
    "import cv2\n",
    "import numpy as np\n",
    "import random\n",
    "import pickle\n",
    "from tensorflow.keras.utils import to_categorical\n",
    "from tensorflow.keras.models import Sequential\n",
    "from tensorflow.keras.layers import Conv2D, MaxPooling2D, Flatten, Dense, Dropout\n",
    "from sklearn.model_selection import train_test_split"
   ]
  },
  {
   "cell_type": "code",
   "execution_count": 4,
   "metadata": {},
   "outputs": [],
   "source": [
    "train_dir = 'archive/train/'\n",
    "test_dir = 'archive/test/'\n",
    "ckplus_dir = 'CK+/'\n",
    "jaffe_dir = 'jaffedbase/'"
   ]
  },
  {
   "cell_type": "code",
   "execution_count": 5,
   "metadata": {},
   "outputs": [],
   "source": [
    "# Fungsi untuk memuat dataset\n",
    "def load_dataset(img_dir):\n",
    "    p = Path(img_dir)\n",
    "    emotions = ['angry', 'happy', 'sad', 'neutral']  # Label sesuai dataset\n",
    "    img_list = []\n",
    "    \n",
    "    for emotion in emotions:\n",
    "        dir_path = p / emotion\n",
    "        if dir_path.exists() and dir_path.is_dir():\n",
    "            # Memilih file JPG dan PNG\n",
    "            for file in dir_path.glob('*.jpg'):\n",
    "                img = cv2.imread(str(file))\n",
    "                if img is not None:\n",
    "                    img_list.append((img, emotion))\n",
    "            for file in dir_path.glob('*.png'):\n",
    "                img = cv2.imread(str(file))\n",
    "                if img is not None:\n",
    "                    img_list.append((img, emotion))\n",
    "    \n",
    "    return img_list\n",
    "\n",
    "def load_jaffe_dataset(img_dir):\n",
    "    # Dictionary dengan kata kunci dari nama file dan label emosi\n",
    "    target_labels = {\n",
    "        \"AN\": \"angry\",\n",
    "        \"HA\": \"happy\",\n",
    "        \"SA\": \"sad\",\n",
    "        \"NE\": \"neutral\"\n",
    "    }\n",
    "    img_list = []\n",
    "    p = Path(img_dir)\n",
    "\n",
    "    # Looping melalui file di folder dataset\n",
    "    for filename in p.glob(\"*\"):\n",
    "        # Cek apakah file adalah gambar\n",
    "        if filename.suffix in [\".tiff\", \".jpg\", \".png\"]:\n",
    "            label = None\n",
    "            # Tentukan label berdasarkan kata kunci dalam nama file\n",
    "            for keyword, emotion in target_labels.items():\n",
    "                if keyword in filename.stem:\n",
    "                    label = emotion\n",
    "                    break\n",
    "\n",
    "            # Jika label ditemukan, muat gambar dan tambahkan ke list\n",
    "            if label:\n",
    "                img = cv2.imread(str(filename), cv2.IMREAD_GRAYSCALE)  # Memuat gambar dalam grayscale\n",
    "                if img is not None:\n",
    "                    img_list.append((img, label))\n",
    "\n",
    "    return img_list\n",
    "\n",
    "# Fungsi untuk memfilter dataset berdasarkan label yang diinginkan\n",
    "def filter_labels(dataset, labels_to_include):\n",
    "    filtered_data = []\n",
    "    for img, label in dataset:\n",
    "        if label in labels_to_include:\n",
    "            filtered_data.append((img, label))\n",
    "    return filtered_data\n",
    "\n",
    "# Memuat dataset FER 13 dan CK+\n",
    "# fer_train = load_dataset(train_dir)\n",
    "# fer_test = load_dataset(test_dir)\n",
    "ck_data = load_dataset(ckplus_dir)\n",
    "jaffe_data = load_jaffe_dataset(jaffe_dir)\n",
    "\n",
    "# Pilih gambar dengan label 'angry', 'sad', 'happy' dari CK+ dan 'neutral' dari FER\n",
    "# fer_train_filtered = filter_labels(fer_train, ['neutral'])\n",
    "# fer_test_filtered = filter_labels(fer_test, ['neutral'])\n",
    "ck_filtered = filter_labels(ck_data, ['angry', 'sad', 'happy'])\n",
    "\n",
    "# Gabungkan dataset\n",
    "# data_images = ck_filtered + fer_train_filtered + fer_test_filtered\n",
    "data_images = ck_filtered + jaffe_data"
   ]
  },
  {
   "cell_type": "code",
   "execution_count": 6,
   "metadata": {},
   "outputs": [],
   "source": [
    "def preprocess(img_list):\n",
    "    std_img_list = []\n",
    "    for item in img_list:\n",
    "        img = item[0]\n",
    "        label = item[1]\n",
    "        \n",
    "        if label == 'angry' or label == 'AN':\n",
    "            img_label = 0\n",
    "        elif label == 'happy' or label == 'HA':\n",
    "            img_label = 1\n",
    "        elif label == 'neutral' or label == 'NE':\n",
    "            img_label = 2\n",
    "        elif label == 'sad' or label == 'SA':\n",
    "            img_label = 3\n",
    "        elif label == 'disgust' or label == 'DI':\n",
    "            img_label = 4\n",
    "        elif label == 'fear' or label == 'FE':\n",
    "            img_label = 5\n",
    "        elif label == 'surprise' or label == 'SU':\n",
    "            img_label = 6\n",
    "        std_img_list.append([img, img_label])\n",
    "    return std_img_list\n",
    "    \n",
    "std_img_list = preprocess(data_images)"
   ]
  },
  {
   "cell_type": "code",
   "execution_count": 7,
   "metadata": {},
   "outputs": [
    {
     "name": "stdout",
     "output_type": "stream",
     "text": [
      "data label counts: [165 238  30 115]\n"
     ]
    }
   ],
   "source": [
    "train_labels = [item[1] for item in std_img_list]\n",
    "print(f'data label counts: {np.bincount(train_labels)}')"
   ]
  },
  {
   "cell_type": "code",
   "execution_count": null,
   "metadata": {},
   "outputs": [],
   "source": [
    "face_cascade = cv2.CascadeClassifier(cv2.data.haarcascades + 'haarcascade_frontalface_default.xml')\n",
    "\n",
    "def preprocess_img(img_list, size=(128, 128)):\n",
    "    img_arr = []\n",
    "    for img in img_list:\n",
    "        img_pre = img[0]\n",
    "        label = img[1]\n",
    "        \n",
    "        faces = face_cascade.detectMultiScale(img_pre, scaleFactor=1.1, minNeighbors=5, minSize=(30, 30))\n",
    "        if len(faces) > 0:\n",
    "            (x, y, w, h) = faces[0]\n",
    "            img_pre = img_pre[y:y+h, x:x+w]\n",
    "            img_pre = cv2.cvtColor(img_pre, cv2.COLOR_BGR2GRAY) if len(img_pre.shape) > 2 else img_pre\n",
    "            img_pre = cv2.resize(img_pre, size, interpolation=cv2.INTER_LANCZOS4)\n",
    "            img_arr.append([img_pre, label])\n",
    "    \n",
    "    return img_arr\n",
    "\n",
    "# Memproses dataset\n",
    "data_pre = preprocess_img(std_img_list)"
   ]
  },
  {
   "cell_type": "code",
   "execution_count": 9,
   "metadata": {},
   "outputs": [],
   "source": [
    "def balance_data(data_pre):\n",
    "    # Hitung jumlah sampel untuk setiap label\n",
    "    label_counts = Counter([data[1] for data in data_pre])\n",
    "    max_count = max(label_counts.values())\n",
    "    \n",
    "    # Tempatkan data dalam dictionary berdasarkan label\n",
    "    label_dict = {label: [] for label in label_counts.keys()}\n",
    "    for img, label in data_pre:\n",
    "        label_dict[label].append([img, label])\n",
    "    \n",
    "    balanced_data = []\n",
    "    \n",
    "    # Melakukan balancing dengan oversampling atau undersampling\n",
    "    for label, images in label_dict.items():\n",
    "        if len(images) < max_count:\n",
    "            # Oversample: tambahkan data dengan cara sampling acak\n",
    "            oversampled_images = random.choices(images, k=max_count)\n",
    "            balanced_data.extend(oversampled_images)\n",
    "        else:\n",
    "            # Undersample: ambil data dengan sampling acak\n",
    "            undersampled_images = random.sample(images, k=max_count)\n",
    "            balanced_data.extend(undersampled_images)\n",
    "    \n",
    "    # Acak urutan data agar tidak urut berdasarkan label\n",
    "    random.shuffle(balanced_data)\n",
    "    \n",
    "    return balanced_data\n",
    "\n",
    "# Menyeimbangkan dataset\n",
    "balanced_data = balance_data(data_pre)"
   ]
  },
  {
   "cell_type": "code",
   "execution_count": 10,
   "metadata": {},
   "outputs": [
    {
     "name": "stdout",
     "output_type": "stream",
     "text": [
      "size: 780\n",
      "labels: [195 195 195 195]\n"
     ]
    }
   ],
   "source": [
    "print(f'size: {len(balanced_data)}')\n",
    "print(f'labels: {np.bincount([item[1] for item in balanced_data])}')"
   ]
  },
  {
   "cell_type": "code",
   "execution_count": 11,
   "metadata": {},
   "outputs": [],
   "source": [
    "def prepare_data(std_img_list, target_size=(128, 128)):\n",
    "    images = []\n",
    "    labels = []\n",
    "    \n",
    "    for img, label in std_img_list:\n",
    "        # Pastikan gambar adalah grayscale (bukan RGB)\n",
    "        img = cv2.cvtColor(img, cv2.COLOR_BGR2GRAY) if len(img.shape) == 3 else img\n",
    "        img = cv2.resize(img, target_size, interpolation=cv2.INTER_LANCZOS4)\n",
    "        \n",
    "        if img.shape == (target_size[0], target_size[1]):\n",
    "            images.append(img)\n",
    "            labels.append(label)\n",
    "        else:\n",
    "            print(f\"Warning: Skipping image with shape {img.shape}\")  # Memberi tahu jika ada gambar yang gagal\n",
    "        \n",
    "    # Konversi images dan labels ke numpy array\n",
    "    images = np.array(images, dtype=np.float32).reshape(-1, target_size[0], target_size[1], 1)  # Tambahkan dimensi channel\n",
    "    labels = np.array(labels)\n",
    "    \n",
    "    # Normalisasi gambar\n",
    "    images = images / 255.0 \n",
    "    \n",
    "    # Pastikan label adalah integer sebelum one-hot encoding\n",
    "    labels = np.array(labels)\n",
    "    \n",
    "    # One-hot encode label\n",
    "    labels = to_categorical(labels, num_classes=4)  # Sesuaikan jumlah kelas\n",
    "    \n",
    "    return images, labels\n",
    "\n",
    "# Memproses dataset\n",
    "images, labels = prepare_data(balanced_data)"
   ]
  },
  {
   "cell_type": "code",
   "execution_count": 12,
   "metadata": {},
   "outputs": [
    {
     "name": "stdout",
     "output_type": "stream",
     "text": [
      "Train images shape: (780, 128, 128, 1)\n"
     ]
    }
   ],
   "source": [
    "print(\"Train images shape:\", images.shape)"
   ]
  },
  {
   "cell_type": "code",
   "execution_count": 13,
   "metadata": {},
   "outputs": [],
   "source": [
    "from sklearn.model_selection import train_test_split\n",
    "\n",
    "train_images, test_images, train_labels, test_labels = train_test_split(images, labels, test_size=0.2, random_state=42)"
   ]
  },
  {
   "cell_type": "code",
   "execution_count": 14,
   "metadata": {},
   "outputs": [
    {
     "name": "stderr",
     "output_type": "stream",
     "text": [
      "c:\\Users\\LENOVO\\AppData\\Local\\Programs\\Python\\Python311\\Lib\\site-packages\\keras\\src\\layers\\convolutional\\base_conv.py:107: UserWarning: Do not pass an `input_shape`/`input_dim` argument to a layer. When using Sequential models, prefer using an `Input(shape)` object as the first layer in the model instead.\n",
      "  super().__init__(activity_regularizer=activity_regularizer, **kwargs)\n"
     ]
    },
    {
     "name": "stdout",
     "output_type": "stream",
     "text": [
      "Epoch 1/30\n",
      "\u001b[1m10/10\u001b[0m \u001b[32m━━━━━━━━━━━━━━━━━━━━\u001b[0m\u001b[37m\u001b[0m \u001b[1m20s\u001b[0m 2s/step - accuracy: 0.3528 - loss: 1.5171 - val_accuracy: 0.5321 - val_loss: 1.1821\n",
      "Epoch 2/30\n",
      "\u001b[1m10/10\u001b[0m \u001b[32m━━━━━━━━━━━━━━━━━━━━\u001b[0m\u001b[37m\u001b[0m \u001b[1m16s\u001b[0m 2s/step - accuracy: 0.5283 - loss: 1.1007 - val_accuracy: 0.7372 - val_loss: 1.0444\n",
      "Epoch 3/30\n",
      "\u001b[1m10/10\u001b[0m \u001b[32m━━━━━━━━━━━━━━━━━━━━\u001b[0m\u001b[37m\u001b[0m \u001b[1m14s\u001b[0m 1s/step - accuracy: 0.6246 - loss: 1.0158 - val_accuracy: 0.8462 - val_loss: 0.6815\n",
      "Epoch 4/30\n",
      "\u001b[1m10/10\u001b[0m \u001b[32m━━━━━━━━━━━━━━━━━━━━\u001b[0m\u001b[37m\u001b[0m \u001b[1m14s\u001b[0m 1s/step - accuracy: 0.8098 - loss: 0.6133 - val_accuracy: 0.8333 - val_loss: 0.5034\n",
      "Epoch 5/30\n",
      "\u001b[1m10/10\u001b[0m \u001b[32m━━━━━━━━━━━━━━━━━━━━\u001b[0m\u001b[37m\u001b[0m \u001b[1m14s\u001b[0m 1s/step - accuracy: 0.8369 - loss: 0.4531 - val_accuracy: 0.8718 - val_loss: 0.4284\n",
      "Epoch 6/30\n",
      "\u001b[1m10/10\u001b[0m \u001b[32m━━━━━━━━━━━━━━━━━━━━\u001b[0m\u001b[37m\u001b[0m \u001b[1m16s\u001b[0m 2s/step - accuracy: 0.8970 - loss: 0.3762 - val_accuracy: 0.8526 - val_loss: 0.3323\n",
      "Epoch 7/30\n",
      "\u001b[1m10/10\u001b[0m \u001b[32m━━━━━━━━━━━━━━━━━━━━\u001b[0m\u001b[37m\u001b[0m \u001b[1m16s\u001b[0m 2s/step - accuracy: 0.9036 - loss: 0.2754 - val_accuracy: 0.9359 - val_loss: 0.2358\n",
      "Epoch 8/30\n",
      "\u001b[1m10/10\u001b[0m \u001b[32m━━━━━━━━━━━━━━━━━━━━\u001b[0m\u001b[37m\u001b[0m \u001b[1m15s\u001b[0m 2s/step - accuracy: 0.9399 - loss: 0.1915 - val_accuracy: 0.9487 - val_loss: 0.1773\n",
      "Epoch 9/30\n",
      "\u001b[1m10/10\u001b[0m \u001b[32m━━━━━━━━━━━━━━━━━━━━\u001b[0m\u001b[37m\u001b[0m \u001b[1m16s\u001b[0m 2s/step - accuracy: 0.9523 - loss: 0.1546 - val_accuracy: 0.9423 - val_loss: 0.1595\n",
      "Epoch 10/30\n",
      "\u001b[1m10/10\u001b[0m \u001b[32m━━━━━━━━━━━━━━━━━━━━\u001b[0m\u001b[37m\u001b[0m \u001b[1m15s\u001b[0m 2s/step - accuracy: 0.9612 - loss: 0.1262 - val_accuracy: 0.9551 - val_loss: 0.1224\n",
      "Epoch 11/30\n",
      "\u001b[1m10/10\u001b[0m \u001b[32m━━━━━━━━━━━━━━━━━━━━\u001b[0m\u001b[37m\u001b[0m \u001b[1m14s\u001b[0m 1s/step - accuracy: 0.9703 - loss: 0.0939 - val_accuracy: 0.9808 - val_loss: 0.0773\n",
      "Epoch 12/30\n",
      "\u001b[1m10/10\u001b[0m \u001b[32m━━━━━━━━━━━━━━━━━━━━\u001b[0m\u001b[37m\u001b[0m \u001b[1m14s\u001b[0m 1s/step - accuracy: 0.9719 - loss: 0.0837 - val_accuracy: 0.9808 - val_loss: 0.0822\n",
      "Epoch 13/30\n",
      "\u001b[1m10/10\u001b[0m \u001b[32m━━━━━━━━━━━━━━━━━━━━\u001b[0m\u001b[37m\u001b[0m \u001b[1m14s\u001b[0m 1s/step - accuracy: 0.9662 - loss: 0.0980 - val_accuracy: 0.9679 - val_loss: 0.0835\n",
      "Epoch 14/30\n",
      "\u001b[1m10/10\u001b[0m \u001b[32m━━━━━━━━━━━━━━━━━━━━\u001b[0m\u001b[37m\u001b[0m \u001b[1m14s\u001b[0m 1s/step - accuracy: 0.9859 - loss: 0.0417 - val_accuracy: 0.9615 - val_loss: 0.1005\n",
      "Epoch 15/30\n",
      "\u001b[1m10/10\u001b[0m \u001b[32m━━━━━━━━━━━━━━━━━━━━\u001b[0m\u001b[37m\u001b[0m \u001b[1m14s\u001b[0m 1s/step - accuracy: 0.9802 - loss: 0.0672 - val_accuracy: 0.9872 - val_loss: 0.0765\n",
      "Epoch 16/30\n",
      "\u001b[1m10/10\u001b[0m \u001b[32m━━━━━━━━━━━━━━━━━━━━\u001b[0m\u001b[37m\u001b[0m \u001b[1m14s\u001b[0m 1s/step - accuracy: 0.9780 - loss: 0.0670 - val_accuracy: 0.9679 - val_loss: 0.0910\n",
      "Epoch 17/30\n",
      "\u001b[1m10/10\u001b[0m \u001b[32m━━━━━━━━━━━━━━━━━━━━\u001b[0m\u001b[37m\u001b[0m \u001b[1m14s\u001b[0m 1s/step - accuracy: 0.9900 - loss: 0.0284 - val_accuracy: 0.9936 - val_loss: 0.0547\n",
      "Epoch 18/30\n",
      "\u001b[1m10/10\u001b[0m \u001b[32m━━━━━━━━━━━━━━━━━━━━\u001b[0m\u001b[37m\u001b[0m \u001b[1m14s\u001b[0m 1s/step - accuracy: 0.9892 - loss: 0.0320 - val_accuracy: 0.9744 - val_loss: 0.0772\n",
      "Epoch 19/30\n",
      "\u001b[1m10/10\u001b[0m \u001b[32m━━━━━━━━━━━━━━━━━━━━\u001b[0m\u001b[37m\u001b[0m \u001b[1m14s\u001b[0m 1s/step - accuracy: 0.9921 - loss: 0.0259 - val_accuracy: 0.9872 - val_loss: 0.0455\n",
      "Epoch 20/30\n",
      "\u001b[1m10/10\u001b[0m \u001b[32m━━━━━━━━━━━━━━━━━━━━\u001b[0m\u001b[37m\u001b[0m \u001b[1m14s\u001b[0m 1s/step - accuracy: 0.9882 - loss: 0.0297 - val_accuracy: 0.9936 - val_loss: 0.0291\n",
      "Epoch 21/30\n",
      "\u001b[1m10/10\u001b[0m \u001b[32m━━━━━━━━━━━━━━━━━━━━\u001b[0m\u001b[37m\u001b[0m \u001b[1m14s\u001b[0m 1s/step - accuracy: 0.9946 - loss: 0.0239 - val_accuracy: 0.9744 - val_loss: 0.0701\n",
      "Epoch 22/30\n",
      "\u001b[1m10/10\u001b[0m \u001b[32m━━━━━━━━━━━━━━━━━━━━\u001b[0m\u001b[37m\u001b[0m \u001b[1m13s\u001b[0m 1s/step - accuracy: 0.9904 - loss: 0.0231 - val_accuracy: 0.9679 - val_loss: 0.0958\n",
      "Epoch 23/30\n",
      "\u001b[1m10/10\u001b[0m \u001b[32m━━━━━━━━━━━━━━━━━━━━\u001b[0m\u001b[37m\u001b[0m \u001b[1m14s\u001b[0m 1s/step - accuracy: 0.9851 - loss: 0.0428 - val_accuracy: 0.9808 - val_loss: 0.0642\n",
      "Epoch 24/30\n",
      "\u001b[1m10/10\u001b[0m \u001b[32m━━━━━━━━━━━━━━━━━━━━\u001b[0m\u001b[37m\u001b[0m \u001b[1m14s\u001b[0m 1s/step - accuracy: 0.9911 - loss: 0.0222 - val_accuracy: 0.9744 - val_loss: 0.0498\n",
      "Epoch 25/30\n",
      "\u001b[1m10/10\u001b[0m \u001b[32m━━━━━━━━━━━━━━━━━━━━\u001b[0m\u001b[37m\u001b[0m \u001b[1m14s\u001b[0m 1s/step - accuracy: 0.9908 - loss: 0.0244 - val_accuracy: 0.9808 - val_loss: 0.0693\n",
      "Epoch 26/30\n",
      "\u001b[1m10/10\u001b[0m \u001b[32m━━━━━━━━━━━━━━━━━━━━\u001b[0m\u001b[37m\u001b[0m \u001b[1m14s\u001b[0m 1s/step - accuracy: 0.9972 - loss: 0.0171 - val_accuracy: 0.9808 - val_loss: 0.0927\n",
      "Epoch 27/30\n",
      "\u001b[1m10/10\u001b[0m \u001b[32m━━━━━━━━━━━━━━━━━━━━\u001b[0m\u001b[37m\u001b[0m \u001b[1m14s\u001b[0m 1s/step - accuracy: 0.9957 - loss: 0.0182 - val_accuracy: 0.9808 - val_loss: 0.0333\n",
      "Epoch 28/30\n",
      "\u001b[1m10/10\u001b[0m \u001b[32m━━━━━━━━━━━━━━━━━━━━\u001b[0m\u001b[37m\u001b[0m \u001b[1m14s\u001b[0m 1s/step - accuracy: 0.9989 - loss: 0.0078 - val_accuracy: 0.9744 - val_loss: 0.0821\n",
      "Epoch 29/30\n",
      "\u001b[1m10/10\u001b[0m \u001b[32m━━━━━━━━━━━━━━━━━━━━\u001b[0m\u001b[37m\u001b[0m \u001b[1m14s\u001b[0m 1s/step - accuracy: 0.9943 - loss: 0.0149 - val_accuracy: 0.9872 - val_loss: 0.0367\n",
      "Epoch 30/30\n",
      "\u001b[1m10/10\u001b[0m \u001b[32m━━━━━━━━━━━━━━━━━━━━\u001b[0m\u001b[37m\u001b[0m \u001b[1m14s\u001b[0m 1s/step - accuracy: 0.9981 - loss: 0.0116 - val_accuracy: 0.9872 - val_loss: 0.0586\n"
     ]
    }
   ],
   "source": [
    "# Membuat model CNN untuk ukuran input 128x128\n",
    "model = Sequential()\n",
    "\n",
    "# Layer 1\n",
    "model.add(Conv2D(64, (3, 3), activation='relu', input_shape=(128, 128, 1)))\n",
    "model.add(MaxPooling2D((2, 2)))\n",
    "\n",
    "# Layer 2\n",
    "model.add(Conv2D(128, (3, 3), activation='relu'))\n",
    "model.add(MaxPooling2D((2, 2)))\n",
    "\n",
    "# Layer 3\n",
    "model.add(Conv2D(256, (3, 3), activation='relu'))\n",
    "model.add(MaxPooling2D((2, 2)))\n",
    "\n",
    "# Fully Connected Layer\n",
    "model.add(Flatten())\n",
    "model.add(Dense(256, activation='relu'))\n",
    "model.add(Dropout(0.5))\n",
    "\n",
    "# Output Layer\n",
    "model.add(Dense(4, activation='softmax'))\n",
    "\n",
    "# Compile Model\n",
    "model.compile(optimizer='adam', loss='categorical_crossentropy', metrics=['accuracy'])\n",
    "\n",
    "# Melatih Model\n",
    "history = model.fit(\n",
    "    train_images, train_labels,\n",
    "    validation_data=(test_images, test_labels),\n",
    "    epochs=30,\n",
    "    batch_size=64\n",
    ")"
   ]
  },
  {
   "cell_type": "code",
   "execution_count": 15,
   "metadata": {},
   "outputs": [
    {
     "name": "stdout",
     "output_type": "stream",
     "text": [
      "\u001b[1m5/5\u001b[0m \u001b[32m━━━━━━━━━━━━━━━━━━━━\u001b[0m\u001b[37m\u001b[0m \u001b[1m1s\u001b[0m 164ms/step - accuracy: 0.9849 - loss: 0.0679\n",
      "Test accuracy: 0.9871794581413269\n"
     ]
    }
   ],
   "source": [
    "# Evaluasi Model pada data uji\n",
    "test_loss, test_acc = model.evaluate(test_images, test_labels)\n",
    "print(f'Test accuracy: {test_acc}')"
   ]
  },
  {
   "cell_type": "code",
   "execution_count": 16,
   "metadata": {},
   "outputs": [],
   "source": [
    "with open('modeldl.pkl', 'wb') as file:\n",
    "    pickle.dump(model, file)"
   ]
  },
  {
   "cell_type": "code",
   "execution_count": 19,
   "metadata": {},
   "outputs": [
    {
     "name": "stderr",
     "output_type": "stream",
     "text": [
      "WARNING:absl:You are saving your model as an HDF5 file via `model.save()` or `keras.saving.save_model(model)`. This file format is considered legacy. We recommend using instead the native Keras format, e.g. `model.save('my_model.keras')` or `keras.saving.save_model(model, 'my_model.keras')`. \n"
     ]
    }
   ],
   "source": [
    "# After training the model, save it in .h5 format\n",
    "model.save('modeldl.h5')  # You can also use .keras extension\n"
   ]
  },
  {
   "cell_type": "code",
   "execution_count": 12,
   "metadata": {},
   "outputs": [
    {
     "name": "stderr",
     "output_type": "stream",
     "text": [
      "WARNING:absl:Compiled the loaded model, but the compiled metrics have yet to be built. `model.compile_metrics` will be empty until you train or evaluate the model.\n"
     ]
    },
    {
     "name": "stdout",
     "output_type": "stream",
     "text": [
      "\u001b[1m1/1\u001b[0m \u001b[32m━━━━━━━━━━━━━━━━━━━━\u001b[0m\u001b[37m\u001b[0m \u001b[1m0s\u001b[0m 84ms/step\n",
      "Prediksi emosi untuk gambar: happy\n"
     ]
    }
   ],
   "source": [
    "import cv2\n",
    "import numpy as np\n",
    "from tensorflow.keras.models import load_model\n",
    "from tensorflow.keras.optimizers import Adam\n",
    "\n",
    "# Fungsi untuk memuat dan memproses gambar\n",
    "def preprocess_image(img_path, target_size=(128, 128)):\n",
    "    try:\n",
    "        # Membaca gambar\n",
    "        img = cv2.imread(img_path, cv2.IMREAD_GRAYSCALE)\n",
    "        if img is None:\n",
    "            raise ValueError(\"Gambar tidak ditemukan atau tidak dapat dimuat.\")\n",
    "        \n",
    "        # Deteksi wajah menggunakan Haarcascade\n",
    "        face_cascade = cv2.CascadeClassifier(cv2.data.haarcascades + 'haarcascade_frontalface_default.xml')\n",
    "        faces = face_cascade.detectMultiScale(img, scaleFactor=1.1, minNeighbors=5, minSize=(30, 30))\n",
    "        \n",
    "        if len(faces) == 0:\n",
    "            raise ValueError(\"Wajah tidak terdeteksi dalam gambar.\")\n",
    "        \n",
    "        # Ambil wajah pertama yang terdeteksi\n",
    "        x, y, w, h = faces[0]\n",
    "        face = img[y:y+h, x:x+w]\n",
    "\n",
    "        # Resize gambar ke ukuran target\n",
    "        face_resized = cv2.resize(face, target_size, interpolation=cv2.INTER_LANCZOS4)\n",
    "\n",
    "        # Normalisasi piksel dan tambahkan dimensi batch dan channel\n",
    "        face_resized = face_resized.astype('float32') / 255.0\n",
    "        face_resized = np.expand_dims(face_resized, axis=(0, -1))  # Tambahkan dimensi batch dan channel\n",
    "        return face_resized\n",
    "    except Exception as e:\n",
    "        raise ValueError(f\"Kesalahan dalam memproses gambar: {e}\")\n",
    "\n",
    "# Fungsi untuk memprediksi emosi dari gambar\n",
    "def predict_emotion(img_path, model):\n",
    "    # Proses gambar\n",
    "    processed_img = preprocess_image(img_path)\n",
    "\n",
    "    # Lakukan prediksi\n",
    "    predictions = model.predict(processed_img)\n",
    "    predicted_class = np.argmax(predictions)\n",
    "\n",
    "    # Label emosi berdasarkan indeks\n",
    "    emotions = {0: 'angry', 1: 'happy', 2: 'neutral', 3: 'sad'}\n",
    "    return emotions.get(predicted_class, \"Unknown\")\n",
    "\n",
    "# Muat model yang telah disimpan\n",
    "model = load_model('modeldl.h5')\n",
    "model.compile(optimizer=Adam(), loss='categorical_crossentropy', metrics=['accuracy'])\n",
    "\n",
    "# Gambar yang ingin diuji\n",
    "img_path = 'test_happy_nondataset.jpg'  # Ganti dengan path gambar Anda\n",
    "\n",
    "# Melakukan prediksi\n",
    "try:\n",
    "    emotion = predict_emotion(img_path, model)\n",
    "    print(f\"Prediksi emosi untuk gambar: {emotion}\")\n",
    "except Exception as e:\n",
    "    print(f\"Terjadi kesalahan: {e}\")\n"
   ]
  }
 ],
 "metadata": {
  "kernelspec": {
   "display_name": "Python 3",
   "language": "python",
   "name": "python3"
  },
  "language_info": {
   "codemirror_mode": {
    "name": "ipython",
    "version": 3
   },
   "file_extension": ".py",
   "mimetype": "text/x-python",
   "name": "python",
   "nbconvert_exporter": "python",
   "pygments_lexer": "ipython3",
   "version": "3.11.4"
  }
 },
 "nbformat": 4,
 "nbformat_minor": 2
}
